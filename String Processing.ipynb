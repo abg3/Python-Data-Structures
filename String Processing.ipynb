{
 "cells": [
  {
   "cell_type": "markdown",
   "metadata": {},
   "source": [
    "# Is Palindrome"
   ]
  },
  {
   "cell_type": "markdown",
   "metadata": {},
   "source": [
    "A palindrome is a string which reads same from forward and backward!"
   ]
  },
  {
   "cell_type": "code",
   "execution_count": 5,
   "metadata": {},
   "outputs": [],
   "source": [
    "def is_palindrome(s):\n",
    "    i=0\n",
    "    j=len(s)-1\n",
    "    \n",
    "    while i<j:\n",
    "        while not s[i].isalnum() and i<j:\n",
    "            i+=1\n",
    "        while not s[j].isalnum() and i<j:\n",
    "            j-=1\n",
    "        \n",
    "        if s[i].lower()!=s[j].lower():\n",
    "            return False\n",
    "        i+=1\n",
    "        j-=1\n",
    "    return True"
   ]
  },
  {
   "cell_type": "code",
   "execution_count": 6,
   "metadata": {},
   "outputs": [
    {
     "name": "stdout",
     "output_type": "stream",
     "text": [
      "True\n"
     ]
    }
   ],
   "source": [
    "s = \"Was it a cat I saw?\"\n",
    "print(is_palindrome(s))"
   ]
  },
  {
   "cell_type": "code",
   "execution_count": 15,
   "metadata": {},
   "outputs": [
    {
     "name": "stdout",
     "output_type": "stream",
     "text": [
      "True\n"
     ]
    }
   ],
   "source": [
    "s = \"Mom\"\n",
    "print(is_palindrome(s))"
   ]
  },
  {
   "cell_type": "markdown",
   "metadata": {},
   "source": [
    "i and j are two iterators which point to the first and the last character of s (lines 2-3). Next, we have a while loop on line 5 which runs as long as i is less than j. i is supposed to go forward from the beginning of s while j has to go backward from the end of s. So, on line 6 and on line 8, we have two while loops which increment or decrement the iterators accordingly. So i is incremented on line 7 if s[i] is not an alphanumeric and i is less than j. Similarly, j is decremented on line 9 if s[j] is not alphanumeric and i is less than j. This will help us ignore all the characters in s which are not alphanumeric.\n",
    "\n",
    "On line 11, we check for the palindrome property by comparing s[i] and s[j]. They have to be the same for s to be a palindrome. However, if s[i] and s[j] do not match, False is returned from the function on line 12 to indicate an instance where the character pointed to by i is not the same as the character pointed to by j. If s[i] equals s[j], the execution proceeds to lines 13-14 where i is incremented and j is decremented to move to the next characters. If the condition on line 11 stays False for all possible iterations of the while loop, True is returned on line 15 to indicate that s is indeed a palindrome."
   ]
  },
  {
   "cell_type": "markdown",
   "metadata": {},
   "source": [
    "# Is Anagram"
   ]
  },
  {
   "cell_type": "markdown",
   "metadata": {},
   "source": [
    "Simply put, an anagram is when two strings can be written using the same letters."
   ]
  },
  {
   "cell_type": "code",
   "execution_count": 50,
   "metadata": {},
   "outputs": [],
   "source": [
    "def is_anagram(s1,s2):\n",
    "    \n",
    "    dictionary={}\n",
    "    \n",
    "    if len(s1)!=len(s2):\n",
    "        return False\n",
    "    \n",
    "    for i in s1:\n",
    "        if i in dictionary:\n",
    "            dictionary[i]+=1\n",
    "        else:\n",
    "            dictionary[i]=1\n",
    "            \n",
    "    for j in s2:\n",
    "        if j in dictionary:\n",
    "            dictionary[j]-=1\n",
    "        else:\n",
    "            dictionary[j]=1\n",
    "    \n",
    "    return all(values==0 for values in dictionary.values())"
   ]
  },
  {
   "cell_type": "code",
   "execution_count": 51,
   "metadata": {},
   "outputs": [
    {
     "name": "stdout",
     "output_type": "stream",
     "text": [
      "True\n"
     ]
    }
   ],
   "source": [
    "s1 = \"fairy tales\"\n",
    "s2 = \"rail safety\"\n",
    "## normalizing the strings\n",
    "s1 = s1.replace(\" \", \"\").lower()\n",
    "s2 = s2.replace(\" \", \"\").lower()\n",
    "\n",
    "print(is_anagram(s1, s2))"
   ]
  },
  {
   "cell_type": "markdown",
   "metadata": {},
   "source": [
    "On line 2, ht is initialized to a Python dictionary. For two strings to be anagrams of each other, they must be of the same length. Therefore, on line 4, we compare the length of the two strings. If they are not equal, False is returned on line 5 before any more computation. If s1 and s2 have the same number of characters, the execution jumps to the for loop on line 7.\n",
    "\n",
    "This for loop iterates over each character of s1 and checks if it is present in ht. If it’s not, we store the character i as a key in ht while setting its value to 1 on line 11. If i is present in ht, then the code on line 9 executes which increments the value against i in ht by 1. Now that we have the count of characters of s1 stored in ht, the code proceeds to the for loop on line 12. The for loop on line 12 is exactly the same as the previous for loop but only with a minor difference. This for loop iterates over s2 and if i is present in ht as a key, instead of incrementing its value, it decrements its value by 1.\n",
    "\n",
    "At this point, if s1 and s2 are anagrams of each other, all the keys in ht will have 0 as their values. "
   ]
  },
  {
   "cell_type": "markdown",
   "metadata": {},
   "source": [
    "# Is Palindrome Permutation"
   ]
  },
  {
   "cell_type": "markdown",
   "metadata": {},
   "source": [
    "We will consider how to determine if a string is a palindrome permutation.\n",
    "\n",
    "The idea we get is that a string that has an even length must have all even counts of characters, while strings that have an odd length must have exactly one character with an odd count. An even-length-ed string can’t have an odd number of exactly one character; otherwise, it wouldn’t be even. This is true since an odd number plus any set of even numbers will yield an odd number."
   ]
  },
  {
   "cell_type": "code",
   "execution_count": 33,
   "metadata": {},
   "outputs": [],
   "source": [
    "def is_palin_perm(str):\n",
    "    \n",
    "    str=str.replace(\" \",\"\")\n",
    "    str=str.lower()\n",
    "    \n",
    "    d={}\n",
    "    \n",
    "    for i in str:\n",
    "        if i in d:\n",
    "            d[i]+=1\n",
    "        else:\n",
    "            d[i]=1\n",
    "    \n",
    "    \n",
    "    oddcount=0\n",
    "    \n",
    "    for k,v in d.items():\n",
    "        if v % 2 !=0 and oddcount==0:\n",
    "            oddcount=1\n",
    "        elif v % 2 !=0 and oddcount!=0:\n",
    "            return False\n",
    "        \n",
    "    return True"
   ]
  },
  {
   "cell_type": "code",
   "execution_count": 34,
   "metadata": {},
   "outputs": [
    {
     "name": "stdout",
     "output_type": "stream",
     "text": [
      "True\n",
      "False\n"
     ]
    }
   ],
   "source": [
    "palin_perm = \"Tact Coa\"\n",
    "not_palin_perm = \"This is not a palindrome permutation\"\n",
    "\n",
    "print(is_palin_perm(palin_perm))\n",
    "print(is_palin_perm(not_palin_perm))"
   ]
  },
  {
   "cell_type": "markdown",
   "metadata": {},
   "source": [
    "Once all the spaces are removed from input_str and the characters in input_str are converted to lowercase, a dictionary named d is defined on line 5.\n",
    "\n",
    "On line 7, by using a for loop, all the characters in input_str are stored as keys in d with their values equal to their number of occurrences in input_str.\n",
    "\n",
    "odd_count is initialized to 0 on line 13. Next, we loop over d using the for loop on line 14 where k is the key of each item, and v is the value for that key. On line 15, we check if v is an odd number and odd_count equals 0. If for some k, v is odd and odd_count is 0, we increment odd_count by 1 on line 6. In this way, we are recording for an instance if we have encountered the middle element of an odd-length string. However, on line 17, if v is an odd number, but odd_count equals something other than 0, it implies that there is more than one character which has an odd number of occurrences in input_str. Therefore, False is returned on line 18 to indicate that the condition on line 17 is True and input_str is not a permutation of a palindrome. On the other hand, if all goes well and the condition on line 17 never evaluates to True, True is returned on line 19 to indicate a positive response."
   ]
  },
  {
   "cell_type": "markdown",
   "metadata": {},
   "source": [
    "# Check Permutation"
   ]
  },
  {
   "cell_type": "markdown",
   "metadata": {},
   "source": [
    "Given two strings, write a function to determine if one is a permutation of the other."
   ]
  },
  {
   "cell_type": "code",
   "execution_count": 46,
   "metadata": {},
   "outputs": [],
   "source": [
    "def is_perm_2(str_1, str_2):\n",
    "    str_1=str_1.lower()\n",
    "    str_2=str_2.lower()\n",
    "    \n",
    "    if len(str_1) != len(str_2):\n",
    "        return False\n",
    "    \n",
    "    d={}\n",
    "    \n",
    "    for i in str_1:\n",
    "        if i in d:\n",
    "            d[i]+=1\n",
    "        else:\n",
    "            d[i]=1\n",
    "            \n",
    "    for i in str_2:\n",
    "        if i in d:\n",
    "            d[i]-=1\n",
    "        else:\n",
    "            d[i]=1\n",
    "            \n",
    "    return all(values==0 for values in d.values())\n",
    "    "
   ]
  },
  {
   "cell_type": "code",
   "execution_count": 47,
   "metadata": {},
   "outputs": [
    {
     "name": "stdout",
     "output_type": "stream",
     "text": [
      "True\n",
      "False\n"
     ]
    }
   ],
   "source": [
    "is_permutation_1 = \"google\"\n",
    "is_permutation_2 = \"ooggle\"\n",
    "\n",
    "not_permutation_1 = \"not\"\n",
    "not_permutation_2 = \"top\"\n",
    "\n",
    "print(is_perm_2(is_permutation_1, is_permutation_2))\n",
    "print(is_perm_2(not_permutation_1, not_permutation_2))"
   ]
  },
  {
   "cell_type": "markdown",
   "metadata": {},
   "source": [
    "**Dang!! Did you notice, anagram and check permutation is very similar or are they identical?*"
   ]
  },
  {
   "cell_type": "markdown",
   "metadata": {},
   "source": [
    "# Integer to String"
   ]
  },
  {
   "cell_type": "code",
   "execution_count": 59,
   "metadata": {},
   "outputs": [],
   "source": [
    "def int_to_str(integer):\n",
    "    \n",
    "    if integer <0:\n",
    "        is_neg=True\n",
    "        integer *=-1\n",
    "    else:\n",
    "        is_neg=False\n",
    "    \n",
    "    str=[]\n",
    "    \n",
    "    while integer > 0:\n",
    "        str.append(chr(ord('0')+ integer%10))\n",
    "        integer//=10\n",
    "    str=str[::-1]\n",
    "    \n",
    "    str=''.join(str)\n",
    "    \n",
    "    if is_neg:\n",
    "        return '-' + str\n",
    "    else:\n",
    "        return str"
   ]
  },
  {
   "cell_type": "code",
   "execution_count": 60,
   "metadata": {},
   "outputs": [
    {
     "name": "stdout",
     "output_type": "stream",
     "text": [
      "-123\n",
      "<class 'int'>\n",
      "-123\n",
      "<class 'str'>\n"
     ]
    }
   ],
   "source": [
    "input_int = -123\n",
    "print(input_int)\n",
    "print(type(input_int))\n",
    "output_str = int_to_str(input_int)\n",
    "print(output_str)\n",
    "print(type(output_str))"
   ]
  },
  {
   "cell_type": "markdown",
   "metadata": {},
   "source": [
    "# String to Integer"
   ]
  },
  {
   "cell_type": "code",
   "execution_count": 61,
   "metadata": {},
   "outputs": [],
   "source": [
    "def str_to_int(input_str):\n",
    "    \n",
    "    output_int = 0\n",
    "    \n",
    "    if input_str[0] == '-':\n",
    "        start_idx = 1\n",
    "        is_negative = True\n",
    "    else:\n",
    "        start_idx = 0\n",
    "        is_negative = False\n",
    "\n",
    "    for i in range(start_idx, len(input_str)):\n",
    "        place = 10**(len(input_str) - (i+1))\n",
    "        digit = ord(input_str[i]) - ord('0')\n",
    "        output_int += place * digit\n",
    "\n",
    "    if is_negative:\n",
    "        return -1 * output_int\n",
    "    else:\n",
    "        return output_int"
   ]
  },
  {
   "cell_type": "code",
   "execution_count": 63,
   "metadata": {},
   "outputs": [
    {
     "name": "stdout",
     "output_type": "stream",
     "text": [
      "123\n",
      "<class 'int'>\n"
     ]
    }
   ],
   "source": [
    "s = \"123\"\n",
    "print(str_to_int(s))\n",
    "print(type(str_to_int(s)))"
   ]
  }
 ],
 "metadata": {
  "kernelspec": {
   "display_name": "Python 3",
   "language": "python",
   "name": "python3"
  },
  "language_info": {
   "codemirror_mode": {
    "name": "ipython",
    "version": 3
   },
   "file_extension": ".py",
   "mimetype": "text/x-python",
   "name": "python",
   "nbconvert_exporter": "python",
   "pygments_lexer": "ipython3",
   "version": "3.7.4"
  }
 },
 "nbformat": 4,
 "nbformat_minor": 4
}
