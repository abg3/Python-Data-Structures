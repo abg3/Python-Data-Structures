{
 "cells": [
  {
   "cell_type": "markdown",
   "metadata": {},
   "source": [
    "# Insertion and Search"
   ]
  },
  {
   "cell_type": "markdown",
   "metadata": {},
   "source": [
    "A binary search tree is a tree data structure in which nodes are arranged according to the BST property which is as follows:\n",
    "\n",
    "The value of the left child of any node in a binary search tree will be less than whatever value we have in that node, and the value of the right child of a node will be greater than the value in that node."
   ]
  },
  {
   "cell_type": "markdown",
   "metadata": {},
   "source": [
    "# Important CHALLENGE: IS BST OR NOT?\n"
   ]
  },
  {
   "cell_type": "code",
   "execution_count": 1,
   "metadata": {},
   "outputs": [],
   "source": [
    "def is_bst_satisfied(self):\n",
    "    def helper(node, lower=float('-inf'), upper=float('inf')):\n",
    "        if not node:\n",
    "            return True\n",
    "        \n",
    "        val = node.data\n",
    "        if val <= lower or val >= upper:\n",
    "            return False\n",
    "\n",
    "        if not helper(node.right, val, upper):\n",
    "            return False\n",
    "        if not helper(node.left, lower, val):\n",
    "            return False\n",
    "        return True\n",
    "\n",
    "    return helper(self.root)"
   ]
  },
  {
   "cell_type": "markdown",
   "metadata": {},
   "source": [
    "In the is_bst_satisfied method, we define an inner method on line 2,helper, which takes node, lower and upper as input parameters. On line 3, we have the base case which caters to an empty tree or a None node. If node is None, True is returned from the method on line 4. Otherwise, the execution proceeds to line 6 where val is made equal to node.data.\n",
    "\n",
    "Next, we check if val is less or equal to lower or if val is greater or equal to upper on line 7. If any of the two conditions is True, False is returned from the method on line 8. This is because the value of the current node should be greater than all the values of the children in the left subtree, and it should be less than all the values of the children in the right subtree.\n",
    "\n",
    "Now that we have checked the BST property for the current node, it’s time to check it for the subtrees. On line 10, we make a recursive call to the right subtree of the current node.node.right is passed as node, val is passed as lower while upper stays the same.lower is now the lower bound for the right subtree as all the children in the right subtree have to be greater than the value of the current node. If the recursive call returns False, the condition on line 10 will evaluate to True and False will be returned from the method.\n",
    "\n",
    "Similarly, the left subtree is evaluated through a recursive call on line 12. Now val is passed as upper for the recursive call as all the children in the left subtree have to be less than the value of the current node.\n",
    "\n",
    "If none of the conditions before line 14 evaluate to True, True is returned on line 14 declaring that the BST property is satisfied."
   ]
  },
  {
   "cell_type": "markdown",
   "metadata": {},
   "source": [
    "Complete code below!"
   ]
  },
  {
   "cell_type": "code",
   "execution_count": 3,
   "metadata": {},
   "outputs": [
    {
     "name": "stdout",
     "output_type": "stream",
     "text": [
      "True\n",
      "False\n"
     ]
    }
   ],
   "source": [
    "class Node(object):\n",
    "    def __init__(self, data):\n",
    "        self.data = data\n",
    "        self.left = None\n",
    "        self.right = None\n",
    "\n",
    "\n",
    "class BST(object):\n",
    "    def __init__(self, root):\n",
    "        self.root = Node(root)\n",
    "\n",
    "    def insert(self, data):\n",
    "        if self.root is None:\n",
    "            self.root = Node(data)\n",
    "        else:\n",
    "            self._insert(data, self.root)\n",
    "\n",
    "    def _insert(self, data, cur_node):\n",
    "        if data < cur_node.data:\n",
    "            if cur_node.left is None:\n",
    "                cur_node.left = Node(data)\n",
    "            else:\n",
    "                self._insert(data, cur_node.left)\n",
    "\n",
    "        elif data > cur_node.data:\n",
    "            if cur_node.right is None:\n",
    "                cur_node.right = Node(data)\n",
    "            else:\n",
    "                self._insert(data, cur_node.right)\n",
    "        else:\n",
    "            print(\"Value already in tree!\")\n",
    "\n",
    "    def inorder_print_tree(self):\n",
    "        if self.root:\n",
    "            self._inorder_print_tree(self.root)\n",
    "\n",
    "    def _inorder_print_tree(self, cur_node):\n",
    "        if cur_node:\n",
    "            self._inorder_print_tree(cur_node.left)\n",
    "            print(str(cur_node.data))\n",
    "            self._inorder_print_tree(cur_node.right)\n",
    "\n",
    "    def find(self, data):\n",
    "        if self.root:\n",
    "            is_found = self._find(data, self.root)\n",
    "            if is_found:\n",
    "                return True\n",
    "            return False\n",
    "        else:\n",
    "            return None\n",
    "\n",
    "    def _find(self, data, cur_node):\n",
    "        if data > cur_node.data and cur_node.right:\n",
    "            return self._find(data, cur_node.right)\n",
    "        elif data < cur_node.data and cur_node.left:\n",
    "            return self._find(data, cur_node.left)\n",
    "        if data == cur_node.data:\n",
    "            return True\n",
    "\n",
    "    def is_bst_satisfied(self):\n",
    "        def helper(node, lower=float('-inf'), upper=float('inf')):\n",
    "            if not node:\n",
    "                return True\n",
    "            \n",
    "            val = node.data\n",
    "            if val <= lower or val >= upper:\n",
    "                return False\n",
    "\n",
    "            if not helper(node.right, val, upper):\n",
    "                return False\n",
    "            if not helper(node.left, lower, val):\n",
    "                return False\n",
    "            return True\n",
    "\n",
    "        return helper(self.root) \n",
    "\n",
    "bst = BST(4)\n",
    "bst.insert(2)\n",
    "bst.insert(8)\n",
    "bst.insert(5)\n",
    "bst.insert(10)\n",
    "\n",
    "tree = BST(1)\n",
    "tree.root.left = Node(2)\n",
    "tree.root.right = Node(3)\n",
    "tree.root.left.left = Node(4)\n",
    "tree.root.left.right = Node(5)\n",
    "tree.root.right.left = Node(6)\n",
    "tree.root.right.right = Node(7)\n",
    "tree.root.right.right.right = Node(8)\n",
    "\n",
    "print(bst.is_bst_satisfied())\n",
    "print(tree.is_bst_satisfied())"
   ]
  },
  {
   "cell_type": "markdown",
   "metadata": {},
   "source": [
    "### That was it for data structure! Let's go into:\n",
    "\n",
    "# ALGORITHMS"
   ]
  },
  {
   "cell_type": "markdown",
   "metadata": {},
   "source": [
    "**Solution 1- Binary Search (Iterative)**\n",
    "\n",
    "Binary search assumes that the array on which the search will take place is sorted in ascending order."
   ]
  },
  {
   "cell_type": "markdown",
   "metadata": {},
   "source": [
    "In binary search, the target element is compared with the middle element of the array following which the next chunk of the array to be searched is decided. If the target matches the middle element, we are successful. Otherwise, since the array is sorted, if the target is smaller than the middle element, it could only be in the left half of the array. Alternatively, if the target is greater than the middle element, it could be in the right half of the array. So, we exclude one half of the array from the further search and repeat the same strategy to the remaining half.\n",
    "\n",
    "Let’s jump to the code below so you get a clearer idea of binary search."
   ]
  },
  {
   "cell_type": "code",
   "execution_count": 5,
   "metadata": {},
   "outputs": [],
   "source": [
    "def binary_search_iterative(data,target):\n",
    "    low= 0\n",
    "    high=len(data)-1\n",
    "    \n",
    "    while low<=high:\n",
    "        mid=(low+high)//2\n",
    "        if target==data[mid]:\n",
    "            return True\n",
    "        elif target< data[mid]:\n",
    "            high=mid-1\n",
    "        else:\n",
    "            low=mid+1\n",
    "    return False"
   ]
  },
  {
   "cell_type": "markdown",
   "metadata": {},
   "source": [
    "We keep dividing the array into halves in the binary search instead of iterating through all the elements to search for the target element. This implies that it takes O(log n) steps to divide into halves until we reach a single element. As a result, the worst-case time complexity of a binary search is O(log n)."
   ]
  },
  {
   "cell_type": "markdown",
   "metadata": {},
   "source": [
    "**Solution 2 - Binary Search (Recursive)**"
   ]
  },
  {
   "cell_type": "code",
   "execution_count": 7,
   "metadata": {},
   "outputs": [],
   "source": [
    "def binary_search_recursive(data, target, low, high):\n",
    "    if low>high:\n",
    "        return False\n",
    "    else:\n",
    "        mid=(low+high)//2\n",
    "        if target==data[mid]:\n",
    "            return True\n",
    "        if target< data[mid]:\n",
    "            return binary_search_recursive(data, target, low, mid-1)\n",
    "        else:\n",
    "            return binary_search_recursive(data, target, mid+1, high)"
   ]
  },
  {
   "cell_type": "markdown",
   "metadata": {},
   "source": [
    "- In the recursive approach, in addition to data and target, low and high are also passed as input parameters to binary_search_recursive. This is to help us code our base case. The base case for this recursive function will be when low becomes greater than high. If the base case turns out to be True, False is returned from the function to end the recursive calls (lines 2-3). \n",
    "\n",
    "\n",
    "- On the other hand, if low is less than or equal to high, execution jumps to line 5 where mid is calculated in the same way as in the iterative function. If target is equal to data[mid], True is returned (line 7). If not, then the condition on line 8 is evaluated. If target is less than data[mid], we make a recursive call to binary_search_recursive and pass mid - 1 which is the high in the scope of the next recursive call. This will reduce the search span as it will be halved with each recursive call. Similarly, if target is greater than data[mid], low needs to be adjusted and so we pass mid + 1 to the recursive call on line 11 which is low in the next recursive call.\n",
    "\n",
    "\n",
    "- We keep dividing the array into halves with recursive calls until the base case is reached. As every recursive call takes constant time, the worst-case time complexity of the recursive approach is also O(log n)O(logn)."
   ]
  },
  {
   "cell_type": "markdown",
   "metadata": {},
   "source": [
    "**Complete Implementation**"
   ]
  },
  {
   "cell_type": "code",
   "execution_count": 8,
   "metadata": {},
   "outputs": [
    {
     "name": "stdout",
     "output_type": "stream",
     "text": [
      "True\n",
      "True\n"
     ]
    }
   ],
   "source": [
    "# Linear Search\n",
    "def linear_search(data, target):\t\n",
    "\tfor i in range(len(data)):\n",
    "\t\tif data[i] == target:\n",
    "\t\t\treturn True\n",
    "\treturn False\n",
    "\n",
    "# Iterative Binary Search \n",
    "def binary_search_iterative(data, target):\n",
    "\tlow = 0\n",
    "\thigh = len(data) - 1\n",
    "\n",
    "\twhile low <= high:\n",
    "\t\tmid = (low + high) // 2\n",
    "\t\tif target == data[mid]:\n",
    "\t\t\treturn True\n",
    "\t\telif target < data[mid]:\n",
    "\t\t\thigh = mid - 1\n",
    "\t\telse:\n",
    "\t\t\tlow = mid + 1\n",
    "\treturn False \n",
    "\n",
    "# Recursive Binary Search \n",
    "def binary_search_recursive(data, target, low, high):\n",
    "\tif low > high:\n",
    "\t\treturn False\n",
    "\telse:\n",
    "\t\tmid = (low + high) // 2\n",
    "\t\tif target == data[mid]:\n",
    "\t\t\treturn True\n",
    "\t\telif target < data[mid]:\n",
    "\t\t\treturn binary_search_recursive(data, target, low, mid-1)\n",
    "\t\telse:\n",
    "\t\t\treturn binary_search_recursive(data, target, mid+1, high)\n",
    "\n",
    "\n",
    "data = [2,4,5,7,8,9,12,14,17,19,22,25,27,28,33,37]\n",
    "target = 37\n",
    "\n",
    "print(binary_search_recursive(data, target, 0, len(data)-1))\n",
    "print(binary_search_iterative(data, target))"
   ]
  },
  {
   "cell_type": "markdown",
   "metadata": {},
   "source": [
    "# Find the Closest Number"
   ]
  },
  {
   "cell_type": "markdown",
   "metadata": {},
   "source": [
    "We will be given a sorted array and a target number. Our goal is to find a number in the array that is closest to the target number. We will be making use of a binary search to solve this problem. The array may contain duplicate values and negative numbers."
   ]
  },
  {
   "cell_type": "code",
   "execution_count": 11,
   "metadata": {},
   "outputs": [],
   "source": [
    "def find_closest_num(A,target):\n",
    "    min_diff=float(\"inf\")\n",
    "    low=0\n",
    "    high=len(A)-1\n",
    "    closest_num=None\n",
    "    \n",
    "    #Let's handle edge cases\n",
    "    if len(A)==0:\n",
    "        return None\n",
    "    if len(A)==1:\n",
    "        return A[0]\n",
    "    \n",
    "    while low<=high:\n",
    "        mid=(low+high)//2\n",
    "        \n",
    "        #make sure to not go out of bounds\n",
    "        if mid+1<len(A):\n",
    "            min_diff_right=abs(A[mid+1]-target)\n",
    "        \n",
    "        if mid>0:\n",
    "            min_diff_left=abs(A[mid-1]-target)\n",
    "            \n",
    "        #check if current difference was less than previous encountered data\n",
    "        \n",
    "        if min_diff_right<min_diff:\n",
    "            min_diff=min_diff_right\n",
    "            closest_num=A[mid+1]\n",
    "        \n",
    "        if min_diff_left<min_diff:\n",
    "            min_diff=min_diff_left\n",
    "            closest_num=A[mid-1]\n",
    "            \n",
    "        #move midpoint as in binary search\n",
    "        \n",
    "        if A[mid]>target:\n",
    "            high=mid-1\n",
    "        elif A[mid]<target:\n",
    "            low=mid+1\n",
    "        else:\n",
    "            return A[mid]\n",
    "    return closest_num"
   ]
  },
  {
   "cell_type": "code",
   "execution_count": 12,
   "metadata": {},
   "outputs": [],
   "source": [
    "A = [2, 5, 6, 7, 8, 8, 9]"
   ]
  },
  {
   "cell_type": "code",
   "execution_count": 22,
   "metadata": {},
   "outputs": [
    {
     "name": "stdout",
     "output_type": "stream",
     "text": [
      "8\n"
     ]
    }
   ],
   "source": [
    "print(find_closest_num(A, 8))"
   ]
  },
  {
   "cell_type": "markdown",
   "metadata": {},
   "source": [
    "**Dang! It worked.**"
   ]
  },
  {
   "cell_type": "markdown",
   "metadata": {},
   "source": [
    "# Find Fixed Number"
   ]
  },
  {
   "cell_type": "markdown",
   "metadata": {},
   "source": [
    "Given an array of n distinct integers sorted in ascending order, write a function that returns a fixed point in the array. If there is not a fixed point, return None."
   ]
  },
  {
   "cell_type": "code",
   "execution_count": 23,
   "metadata": {},
   "outputs": [],
   "source": [
    "def find_fixed_point(A):\n",
    "    low = 0\n",
    "    high = len(A) - 1\n",
    "\n",
    "    while low <= high:\n",
    "        mid = (low + high)//2\n",
    "\n",
    "        if A[mid] < mid:\n",
    "            low = mid + 1\n",
    "        elif A[mid] > mid:\n",
    "            high = mid - 1\n",
    "        else:\n",
    "            return A[mid]\n",
    "    return None"
   ]
  },
  {
   "cell_type": "markdown",
   "metadata": {},
   "source": [
    "As we have employed a binary search to write the above code, the time complexity for the code above is O(log n) while the space complexity is O(1)."
   ]
  },
  {
   "cell_type": "markdown",
   "metadata": {},
   "source": [
    "# Find Bitonic Peak"
   ]
  },
  {
   "cell_type": "markdown",
   "metadata": {},
   "source": [
    "We will be given an array that is bitonically sorted, an array that starts off with increasing terms and then concludes with decreasing terms. In any such sequence, there is a “peak” element which is the largest element in the sequence. We will be writing a solution to help us find the peak element of a bitonic sequence."
   ]
  },
  {
   "cell_type": "code",
   "execution_count": 29,
   "metadata": {},
   "outputs": [],
   "source": [
    "def find_highest_number(A):\n",
    "    low = 0\n",
    "    high = len(A) - 1\n",
    "\n",
    "    # Require at least 3 elements for a bitonic sequence.\n",
    "    if len(A) < 3:\n",
    "        return None\n",
    "\n",
    "    while low <= high:\n",
    "        mid = (low + high)//2\n",
    "        \n",
    "        mid_left=A[mid-1] if mid-1>0 else float(\"-inf\")\n",
    "        mid_right=A[mid+1] if mid+1<len(A) else float(\"inf\")\n",
    "        \n",
    "        if mid_left<A[mid] and mid_right>A[mid]:\n",
    "            low=mid+1\n",
    "        elif mid_left>A[mid] and mid_right<A[mid]:\n",
    "            high=mid-1\n",
    "        elif mid_left<A[mid] and mid_right<A[mid]:\n",
    "            return A[mid]\n",
    "        \n",
    "    return None"
   ]
  },
  {
   "cell_type": "code",
   "execution_count": 30,
   "metadata": {},
   "outputs": [
    {
     "name": "stdout",
     "output_type": "stream",
     "text": [
      "5\n",
      "6\n",
      "None\n",
      "5\n"
     ]
    }
   ],
   "source": [
    "# Peak element is \"5\".\n",
    "A = [1, 2, 3, 4, 5, 4, 3, 2, 1]\n",
    "print(find_highest_number(A))\n",
    "A = [1, 6, 5, 4, 3, 2, 1]\n",
    "print(find_highest_number(A))\n",
    "A = [1, 2, 3, 4, 5]\n",
    "print(find_highest_number(A))\n",
    "A = [5, 4, 3, 2, 1]\n",
    "print(find_highest_number(A))"
   ]
  },
  {
   "cell_type": "markdown",
   "metadata": {},
   "source": [
    "Done!!"
   ]
  },
  {
   "cell_type": "markdown",
   "metadata": {},
   "source": [
    "# Find First Entry in List with Duplicates"
   ]
  },
  {
   "cell_type": "markdown",
   "metadata": {},
   "source": [
    "We can reduce the problem from linear Big O(n) to O(log n) where n is the size of the array. In our current problem, we have non-distinct entries in sorted order, so we need to tweak the binary search algorithm to solve this variance of the problem."
   ]
  },
  {
   "cell_type": "code",
   "execution_count": 31,
   "metadata": {},
   "outputs": [
    {
     "name": "stdout",
     "output_type": "stream",
     "text": [
      "3\n"
     ]
    }
   ],
   "source": [
    "def find(A, target):\n",
    "    low = 0\n",
    "    high = len(A) - 1\n",
    "\n",
    "    while low <= high:\n",
    "        mid = (low + high) // 2\n",
    "\n",
    "        if A[mid] < target:\n",
    "            low = mid + 1\n",
    "        elif A[mid] > target:\n",
    "            high = mid - 1\n",
    "        else:\n",
    "            if mid - 1 < 0:\n",
    "                return mid\n",
    "            if A[mid - 1] != target:\n",
    "                return mid\n",
    "            high = mid - 1\n",
    "\n",
    "A = [-14, -10, 2, 108, 108, 243, 285, 285, 285, 401]\n",
    "target = 108\n",
    "x = find(A, target)\n",
    "print(x)"
   ]
  },
  {
   "cell_type": "markdown",
   "metadata": {},
   "source": [
    "The code above updates the lower and upper bounds for our search space according to the result of the comparison between the value of target and the value of the midpoint (A[mid]) (lines 8 -11) just as in the original Binary Search. The execution jumps to line 13 when target is equal to A[mid]. Since the array is sorted in ascending order, our target is either the middle element or an element on its left. Now we have to make sure that we return the first occurrence from the function.\n",
    "\n",
    "On line 13, we check if mid - 1 is less than 0, this is an edge case we would deal with if the first occurrence is on the first index. Next, we check if the element to the left of A[mid], i.e., A[mid - 1] is the target element or not (line 15). If it isn’t, the condition on line 15 is True, and this implies that A[mid] is the first occurrence, so we return mid on line 16. However, if the element to the left is also the same as the target element, we update high to mid - 1. In this way, we condense our search space to find the first occurrence of the target which will be to the left of the midpoint."
   ]
  },
  {
   "cell_type": "markdown",
   "metadata": {},
   "source": [
    "# Challenge 1~ Integer Square Root"
   ]
  },
  {
   "cell_type": "markdown",
   "metadata": {},
   "source": [
    "You are required to write a function that takes a non-negative integer, k, and returns the largest integer whose square is less than or equal to the specified integer k."
   ]
  },
  {
   "cell_type": "code",
   "execution_count": 1,
   "metadata": {},
   "outputs": [],
   "source": [
    "def integer_square_root(k):\n",
    "    low=0\n",
    "    high=k\n",
    "    \n",
    "    while low<=high:\n",
    "        mid=(low+high)//2\n",
    "        mid_sqr=mid**2\n",
    "        if mid_sqr<=k:\n",
    "            low=mid+1\n",
    "        else:\n",
    "            high=mid-1\n",
    "        \n",
    "    return low-1    "
   ]
  },
  {
   "cell_type": "code",
   "execution_count": 2,
   "metadata": {},
   "outputs": [
    {
     "name": "stdout",
     "output_type": "stream",
     "text": [
      "17\n"
     ]
    }
   ],
   "source": [
    "k = 300\n",
    "print(integer_square_root(k))"
   ]
  },
  {
   "cell_type": "markdown",
   "metadata": {},
   "source": [
    "# Challenge 2~ Cyclically Shifted Array"
   ]
  },
  {
   "cell_type": "markdown",
   "metadata": {},
   "source": [
    "You are required to write a function that determines the index of the smallest element of the cyclically shifted array."
   ]
  },
  {
   "cell_type": "code",
   "execution_count": 11,
   "metadata": {},
   "outputs": [
    {
     "name": "stdout",
     "output_type": "stream",
     "text": [
      "0\n"
     ]
    }
   ],
   "source": [
    "def find(A):\n",
    "    low=0\n",
    "    high=len(A)-1\n",
    "    \n",
    "    while low<high:\n",
    "        mid=(low+high)//2\n",
    "        \n",
    "        if A[mid]>A[high]:\n",
    "            low=mid+1\n",
    "        else:\n",
    "            #important here \n",
    "            high=mid\n",
    "    return low\n",
    "\n",
    "A = [4, 5, 6, 0, 1, 2, 3]\n",
    "idx = find(A)\n",
    "print(A[idx])     "
   ]
  },
  {
   "cell_type": "markdown",
   "metadata": {},
   "source": [
    "# Recursion"
   ]
  },
  {
   "cell_type": "markdown",
   "metadata": {},
   "source": [
    "### Find Uppercase Letter in String"
   ]
  },
  {
   "cell_type": "code",
   "execution_count": 14,
   "metadata": {},
   "outputs": [],
   "source": [
    "def find_upper_iterative(str):\n",
    "    for i in range(len(str)):\n",
    "        if str[i].isupper():\n",
    "            return str[i]\n",
    "    return \"no uppercase found\"\n",
    "    "
   ]
  },
  {
   "cell_type": "code",
   "execution_count": 15,
   "metadata": {},
   "outputs": [
    {
     "name": "stdout",
     "output_type": "stream",
     "text": [
      "P\n",
      "L\n",
      "no uppercase found\n"
     ]
    }
   ],
   "source": [
    "input_str_1 = \"lucidProgramming\"\n",
    "input_str_2 = \"LucidProgramming\"\n",
    "input_str_3 = \"lucidprogramming\"\n",
    "print(find_upper_iterative(input_str_1))\n",
    "print(find_upper_iterative(input_str_2))\n",
    "print(find_upper_iterative(input_str_3))"
   ]
  },
  {
   "cell_type": "markdown",
   "metadata": {},
   "source": [
    "### Recursive Approach"
   ]
  },
  {
   "cell_type": "code",
   "execution_count": 16,
   "metadata": {},
   "outputs": [],
   "source": [
    "def find_upper_recursive(str,idx=0):\n",
    "    if str[idx].isupper():\n",
    "        return str[idx]\n",
    "    if idx==len(str)-1:\n",
    "        return \"No uppercase\"\n",
    "    \n",
    "    return find_upper_recursive(str,idx+1)"
   ]
  },
  {
   "cell_type": "code",
   "execution_count": 17,
   "metadata": {},
   "outputs": [
    {
     "name": "stdout",
     "output_type": "stream",
     "text": [
      "P\n",
      "L\n",
      "No uppercase\n"
     ]
    }
   ],
   "source": [
    "print(find_upper_recursive(input_str_1))\n",
    "print(find_upper_recursive(input_str_2))\n",
    "print(find_upper_recursive(input_str_3))"
   ]
  },
  {
   "cell_type": "markdown",
   "metadata": {},
   "source": [
    "### Calculate String Length"
   ]
  },
  {
   "cell_type": "code",
   "execution_count": 18,
   "metadata": {},
   "outputs": [
    {
     "name": "stdout",
     "output_type": "stream",
     "text": [
      "16\n"
     ]
    }
   ],
   "source": [
    "def str_len(str):\n",
    "    count=0\n",
    "    for i in range(len(str)):\n",
    "        count+=1\n",
    "    return count\n",
    "\n",
    "input_str = \"LucidProgramming\"\n",
    "\n",
    "print(str_len(input_str))"
   ]
  },
  {
   "cell_type": "markdown",
   "metadata": {},
   "source": [
    "### Recursive Approach"
   ]
  },
  {
   "cell_type": "code",
   "execution_count": 19,
   "metadata": {},
   "outputs": [
    {
     "name": "stdout",
     "output_type": "stream",
     "text": [
      "16\n"
     ]
    }
   ],
   "source": [
    "def str_len_recursive(str):\n",
    "    if str=='':\n",
    "        return 0\n",
    "    \n",
    "    return 1+ str_len_recursive(str[1:])\n",
    "\n",
    "input_str = \"LucidProgramming\"\n",
    "\n",
    "print(str_len_recursive(input_str))"
   ]
  },
  {
   "cell_type": "markdown",
   "metadata": {},
   "source": [
    "The base case for this function is when an empty string is encountered. If input_str is empty, 0 is returned to make a count of 0 for the empty string. Otherwise, 1 is added to whatever is returned from the recursive call on line 5 which takes in input_str[1:]. The slicing notation in input_str[1:] indicates that all the characters except at the 0th index are passed into the recursive call. Therefore, every recursive call keeps shortening input_str by one character, which is being counted in that recursive call. As there will be nn recursive calls, each expending a constant amount of computational effort, the time complexity for this solution is O(n)O(n) where nn is the length of the string."
   ]
  },
  {
   "cell_type": "markdown",
   "metadata": {},
   "source": [
    "### Count Consonants in String"
   ]
  },
  {
   "cell_type": "code",
   "execution_count": 24,
   "metadata": {},
   "outputs": [],
   "source": [
    "vowels='aeiou'\n",
    "def count_cons(str):\n",
    "    count=0\n",
    "    for i in range(len(str)):\n",
    "        if str[i].lower() not in vowels and str[i].isalpha():\n",
    "            count+=1\n",
    "    return count\n",
    "        "
   ]
  },
  {
   "cell_type": "code",
   "execution_count": 25,
   "metadata": {},
   "outputs": [
    {
     "name": "stdout",
     "output_type": "stream",
     "text": [
      "abc de\n",
      "3\n"
     ]
    }
   ],
   "source": [
    "input_str = \"abc de\"\n",
    "print(input_str)\n",
    "print(count_cons(input_str))"
   ]
  },
  {
   "cell_type": "markdown",
   "metadata": {},
   "source": [
    "#### Recursive Approach:\n",
    "    "
   ]
  },
  {
   "cell_type": "code",
   "execution_count": 38,
   "metadata": {},
   "outputs": [],
   "source": [
    "def count_cons_recursive(str):\n",
    "    if str =='':\n",
    "        return 0\n",
    "    if str[0].lower() not in vowels and str[0].isalpha():\n",
    "        return 1+ count_cons_recursive(str[1:])\n",
    "    \n",
    "    else:\n",
    "        return count_cons_recursive(str[1:])"
   ]
  },
  {
   "cell_type": "code",
   "execution_count": 39,
   "metadata": {},
   "outputs": [
    {
     "name": "stdout",
     "output_type": "stream",
     "text": [
      "abc de\n",
      "3\n"
     ]
    }
   ],
   "source": [
    "print(input_str)\n",
    "print(count_cons_recursive(input_str))"
   ]
  },
  {
   "cell_type": "markdown",
   "metadata": {},
   "source": [
    "#### Product of two integers\n"
   ]
  },
  {
   "cell_type": "code",
   "execution_count": 44,
   "metadata": {},
   "outputs": [
    {
     "name": "stdout",
     "output_type": "stream",
     "text": [
      "140\n"
     ]
    }
   ],
   "source": [
    "def recursive_product(x,y):\n",
    "    if x<y:\n",
    "        return recursive_product(y,x)\n",
    "    if y==0:\n",
    "        return 0\n",
    "    return x+ recursive_product(x,y-1)\n",
    "\n",
    "print(recursive_product(10,14))"
   ]
  }
 ],
 "metadata": {
  "kernelspec": {
   "display_name": "Python 3",
   "language": "python",
   "name": "python3"
  },
  "language_info": {
   "codemirror_mode": {
    "name": "ipython",
    "version": 3
   },
   "file_extension": ".py",
   "mimetype": "text/x-python",
   "name": "python",
   "nbconvert_exporter": "python",
   "pygments_lexer": "ipython3",
   "version": "3.7.4"
  }
 },
 "nbformat": 4,
 "nbformat_minor": 4
}
