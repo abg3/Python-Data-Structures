{
 "cells": [
  {
   "cell_type": "markdown",
   "metadata": {},
   "source": [
    "# Binary Trees"
   ]
  },
  {
   "cell_type": "markdown",
   "metadata": {},
   "source": [
    "A binary tree is a tree data structure in which each node has at most two children, which are referred to as the left child and the right child. "
   ]
  },
  {
   "cell_type": "markdown",
   "metadata": {},
   "source": [
    "**Depth of a Node**\n",
    "\n",
    "The length of the path from a node, n, to the root node. The depth of the root node is 0."
   ]
  },
  {
   "cell_type": "markdown",
   "metadata": {},
   "source": [
    "**Height of a Tree**\n",
    "\n",
    "The length of the path from n to its deepest descendant. The height of the tree itself is the height of the root node, and the height of leaf nodes is always 0."
   ]
  },
  {
   "cell_type": "markdown",
   "metadata": {},
   "source": [
    "**Memory Tip!**- **Depth calculation starts from root to leaf node and Height calculation from leaf node to the root! Easy?*"
   ]
  },
  {
   "cell_type": "markdown",
   "metadata": {},
   "source": [
    "# Types of Binary Trees"
   ]
  },
  {
   "cell_type": "markdown",
   "metadata": {},
   "source": [
    "**Complete Binary Tree**- In a complete binary tree, every level except possibly the last, is completely filled and all nodes in the last level are as far left as possible.\n",
    "\n",
    "**Full Binary Tree**- A full binary tree (sometimes referred to as a proper or plane binary tree) is a tree in which every node has either 0 or 2 children."
   ]
  },
  {
   "cell_type": "markdown",
   "metadata": {},
   "source": [
    "# **Implementation**"
   ]
  },
  {
   "cell_type": "code",
   "execution_count": 1,
   "metadata": {},
   "outputs": [],
   "source": [
    "class Node(object):\n",
    "    def __init__(self,value):\n",
    "        self.value=value\n",
    "        self.left=None\n",
    "        self.right=None"
   ]
  },
  {
   "cell_type": "markdown",
   "metadata": {},
   "source": [
    "The Node class has three attributes:\n",
    "\n",
    "1. self.value\n",
    "2. self.left\n",
    "3. self.right"
   ]
  },
  {
   "cell_type": "markdown",
   "metadata": {},
   "source": [
    "Let’s go ahead and implement BinaryTree class:"
   ]
  },
  {
   "cell_type": "code",
   "execution_count": 2,
   "metadata": {},
   "outputs": [],
   "source": [
    "class BinaryTree(object):\n",
    "    def __init__(self,root):\n",
    "        self.root=Node(root)"
   ]
  },
  {
   "cell_type": "code",
   "execution_count": 3,
   "metadata": {},
   "outputs": [],
   "source": [
    "#Creating object of BinaryTree class\n",
    "tree = BinaryTree(1)\n",
    "tree.root.left = Node(2)\n",
    "tree.root.right = Node(3)\n",
    "tree.root.left.left = Node(4)\n",
    "tree.root.left.right = Node(5)\n",
    "tree.root.right.left = Node(6)\n",
    "tree.root.right.right = Node(7)"
   ]
  },
  {
   "cell_type": "markdown",
   "metadata": {},
   "source": [
    "#### Traversal Algorithms"
   ]
  },
  {
   "cell_type": "markdown",
   "metadata": {},
   "source": [
    "**Tree Traversal** - Tree Traversal is the process of visiting (checking or updating) each node in a tree data structure, exactly once. Unlike linked lists or one-dimensional arrays that are canonically traversed in linear order, trees may be traversed in multiple ways. They may be traversed in depth-first or breadth-first order."
   ]
  },
  {
   "cell_type": "markdown",
   "metadata": {},
   "source": [
    "There are three common ways to traverse a tree in depth-first order:\n",
    "\n",
    "1. In-order\n",
    "2. Pre-order\n",
    "3. Post-order"
   ]
  },
  {
   "cell_type": "markdown",
   "metadata": {},
   "source": [
    "#### Pre-order Traversal"
   ]
  },
  {
   "cell_type": "markdown",
   "metadata": {},
   "source": [
    "Here is the algorithm for a pre-order traversal:\n",
    "\n",
    "- Check if the current node is empty/null.\n",
    "- Display the data part of the root (or current node).\n",
    "- Traverse the left subtree by recursively calling the pre-order method.\n",
    "- Traverse the right subtree by recursively calling the pre-order method."
   ]
  },
  {
   "cell_type": "markdown",
   "metadata": {},
   "source": [
    "Let's implement:\n"
   ]
  },
  {
   "cell_type": "code",
   "execution_count": 9,
   "metadata": {},
   "outputs": [],
   "source": [
    "def preorder_print(self, start, traversal):\n",
    "    \"\"\"Root->Left->Right\"\"\"\n",
    "    if start:\n",
    "        traversal += (str(start.value) + \"-\")\n",
    "        traversal = self.preorder_print(start.left, traversal)\n",
    "        traversal = self.preorder_print(start.right, traversal)\n",
    "    return traversal"
   ]
  },
  {
   "cell_type": "markdown",
   "metadata": {},
   "source": [
    "We check if start (i.e., the current node) is empty or not. If not, then we append start.value to the traversal string and recursively call preorder_print on start.left and start.right which are the right and left child of the current node. Finally, we return traversal from the method after we have returned from all the recursive calls in case start is not None. traversal is just a string that will concatenate the value of nodes in an order that we visited them."
   ]
  },
  {
   "cell_type": "markdown",
   "metadata": {},
   "source": [
    "**Memory Tip!**- **Always start with root, go left, then right!*"
   ]
  },
  {
   "cell_type": "markdown",
   "metadata": {},
   "source": [
    "#### In-order Traversal"
   ]
  },
  {
   "cell_type": "markdown",
   "metadata": {},
   "source": [
    "Here is the algorithm for an in-order traversal:\n",
    "\n",
    "- Check if the current node is empty/null.\n",
    "- Traverse the left subtree by recursively calling the in-order method.\n",
    "- Display the data part of the root (or current node).\n",
    "- Traverse the right subtree by recursively calling the in-order method."
   ]
  },
  {
   "cell_type": "code",
   "execution_count": 10,
   "metadata": {},
   "outputs": [],
   "source": [
    "def inorder_print(self, start, traversal):\n",
    "        \"\"\"Left->Root->Right\"\"\"\n",
    "        if start:\n",
    "            traversal = self.inorder_print(start.left, traversal)\n",
    "            traversal += (str(start.value) + \"-\")\n",
    "            traversal = self.inorder_print(start.right, traversal)\n",
    "        return traversal"
   ]
  },
  {
   "cell_type": "markdown",
   "metadata": {},
   "source": [
    "The inorder_print is pretty much the same as the preorder_print except that the order Root->Left->Right from pre-order changes to Left->Root->Right in in-order traversal. In order to achieve this order, we just change the order of statements in the if-condition, i.e., we first make a recursive call on the left child and after we are done will all the subsequent calls from line 4, we concatenate the value of the current node with traversal on line 5. Then, we can make a recursive call to right subtree on line 6. This will help us keep the order required for the in-order traversal."
   ]
  },
  {
   "cell_type": "markdown",
   "metadata": {},
   "source": [
    "**Memory Tip!**- **Always start with left, when done display root, then cover right!*"
   ]
  },
  {
   "cell_type": "markdown",
   "metadata": {},
   "source": [
    "#### Post-order Traversal "
   ]
  },
  {
   "cell_type": "markdown",
   "metadata": {},
   "source": [
    "There you go:\n",
    "\n",
    "- Check if the current node is empty/null.\n",
    "- Traverse the left subtree by recursively calling the post-order method.\n",
    "- Traverse the right subtree by recursively calling the post-order method.\n",
    "- Display the data part of the root (or current node)."
   ]
  },
  {
   "cell_type": "code",
   "execution_count": 12,
   "metadata": {},
   "outputs": [],
   "source": [
    "def postorder_print(self, start, traversal):\n",
    "    \"\"\"Left->Right->Root\"\"\"\n",
    "    if start:\n",
    "        traversal = self.postorder_print(start.left, traversal)\n",
    "        traversal = self.postorder_print(start.right, traversal)\n",
    "        traversal += (str(start.value) + \"-\")\n",
    "    return traversal  "
   ]
  },
  {
   "cell_type": "markdown",
   "metadata": {},
   "source": [
    "The recursive calls to the left and the right subtree have been placed before concatenating the value of the current node to traversal."
   ]
  },
  {
   "cell_type": "markdown",
   "metadata": {},
   "source": [
    "**Memory Tip!**- **Start with right,then cover left, finally display root!*"
   ]
  },
  {
   "cell_type": "markdown",
   "metadata": {},
   "source": [
    "**Helper Method**\n",
    "\n",
    "Below is the implementation of all the tree traversal methods within the Binary Tree class. Additionally, there is a helper method print_tree(self, traversal_type) which will invoke the specified method according to traversal_type. All the pieces of code above have been combined below!"
   ]
  },
  {
   "cell_type": "code",
   "execution_count": 13,
   "metadata": {},
   "outputs": [
    {
     "name": "stdout",
     "output_type": "stream",
     "text": [
      "1-2-4-5-3-6-7-\n",
      "4-2-5-1-6-3-7-\n",
      "4-5-2-6-7-3-1-\n",
      "Traversal type laworder is not supported.\n",
      "False\n"
     ]
    }
   ],
   "source": [
    "class Node(object):\n",
    "    def __init__(self, value):\n",
    "        self.value = value\n",
    "        self.left = None\n",
    "        self.right = None\n",
    "\n",
    "\n",
    "class BinaryTree(object):\n",
    "    def __init__(self, root):\n",
    "        self.root = Node(root)\n",
    "\n",
    "    def print_tree(self, traversal_type):\n",
    "        if traversal_type == \"preorder\":\n",
    "            return self.preorder_print(tree.root, \"\")\n",
    "        elif traversal_type == \"inorder\":\n",
    "            return self.inorder_print(tree.root, \"\")\n",
    "        elif traversal_type == \"postorder\":\n",
    "            return self.postorder_print(tree.root, \"\")\n",
    "\n",
    "        else:\n",
    "            print(\"Traversal type \" + str(traversal_type) + \" is not supported.\")\n",
    "            return False\n",
    "\n",
    "    def preorder_print(self, start, traversal):\n",
    "        \"\"\"Root->Left->Right\"\"\"\n",
    "        if start:\n",
    "            traversal += (str(start.value) + \"-\")\n",
    "            traversal = self.preorder_print(start.left, traversal)\n",
    "            traversal = self.preorder_print(start.right, traversal)\n",
    "        return traversal\n",
    "\n",
    "    def inorder_print(self, start, traversal):\n",
    "        \"\"\"Left->Root->Right\"\"\"\n",
    "        if start:\n",
    "            traversal = self.inorder_print(start.left, traversal)\n",
    "            traversal += (str(start.value) + \"-\")\n",
    "            traversal = self.inorder_print(start.right, traversal)\n",
    "        return traversal\n",
    "\n",
    "    def postorder_print(self, start, traversal):\n",
    "        \"\"\"Left->Right->Root\"\"\"\n",
    "        if start:\n",
    "            traversal = self.postorder_print(start.left, traversal)\n",
    "            traversal = self.postorder_print(start.right, traversal)\n",
    "            traversal += (str(start.value) + \"-\")\n",
    "        return traversal\n",
    "\n",
    "# 1-2-4-5-3-6-7-\n",
    "# 4-2-5-1-6-3-7\n",
    "# 4-5-2-6-7-3-1\n",
    "#               1\n",
    "#           /       \\  \n",
    "#          2          3  \n",
    "#         /  \\      /   \\\n",
    "#        4    5     6   7 \n",
    "\n",
    "# Set up tree:\n",
    "tree = BinaryTree(1)\n",
    "tree.root.left = Node(2)\n",
    "tree.root.right = Node(3)\n",
    "tree.root.left.left = Node(4)\n",
    "tree.root.left.right = Node(5)\n",
    "tree.root.right.left = Node(6)\n",
    "tree.root.right.right = Node(7)\n",
    "\n",
    "print(tree.print_tree(\"preorder\"))\n",
    "print(tree.print_tree(\"inorder\"))\n",
    "print(tree.print_tree(\"postorder\"))\n",
    "print(tree.print_tree(\"laworder\"))"
   ]
  },
  {
   "cell_type": "markdown",
   "metadata": {},
   "source": [
    "**Keep in mind the memory tips!**\n",
    "\n",
    "**Hope you find these depth-first tree traversals useful! Let's do level-order traversal which is a kind of breadth-first tree traversal.*"
   ]
  },
  {
   "cell_type": "markdown",
   "metadata": {},
   "source": [
    "#### Level-Order Traversal"
   ]
  },
  {
   "cell_type": "markdown",
   "metadata": {},
   "source": [
    "Algorithm #\n",
    "\n",
    "To do a level-order traversal of a binary tree, we require a queue. Have a look at the slides below for the algorithm:"
   ]
  },
  {
   "cell_type": "markdown",
   "metadata": {},
   "source": [
    "Let’s jump to the implementation in Python. First, we’ll need to implement Queue so that we can use its object in our solution of level-order traversal."
   ]
  },
  {
   "cell_type": "code",
   "execution_count": 23,
   "metadata": {},
   "outputs": [],
   "source": [
    "class Queue(object):\n",
    "    def __init__(self):\n",
    "        self.items = []\n",
    "\n",
    "    def enqueue(self, item):\n",
    "        self.items.insert(0, item)\n",
    "\n",
    "    def dequeue(self):\n",
    "        if not self.is_empty():\n",
    "            return self.items.pop()\n",
    "\n",
    "    def is_empty(self):\n",
    "        return len(self.items) == 0\n",
    "\n",
    "    def peek(self):\n",
    "        if not self.is_empty():\n",
    "            return self.items[-1].value\n",
    "\n",
    "    def __len__(self):\n",
    "        return self.size()\n",
    "\n",
    "    def size(self):\n",
    "        return len(self.items)"
   ]
  },
  {
   "cell_type": "markdown",
   "metadata": {},
   "source": [
    "The constructor of the Queue class initializes self.items to an empty list on line 3. This list will store all the elements in the queue. We assume the last element to be the front of the queue and the first element to be the back of the queue.\n",
    "\n",
    "To perform the enqueue operation, in the enqueue method, we make use of the insert method of Python list which will insert item on the 0th index in self.items as specified on line 6. On the other hand, in the dequeue method, we use the pop method of Python list to pop out the last element as the queue follows the First-In, First-Out property. The method also ensures that the pop method is only called if the queue is not empty. To see if a queue is empty or not, the is_empty method comes in handy which checks for the length of self.items and compares it with 0. If the length of self.items is 0, True is returned, otherwise, False is returned.\n",
    "\n",
    "The peek method will return the value of the last element in self.items which we assume to be the front of our queue. We have also overridden the len method on line 19 which calls the size method on line 22. The size method returns the length of self.items."
   ]
  },
  {
   "cell_type": "markdown",
   "metadata": {},
   "source": [
    "Let’s go ahead and implement level-order traversal:\n",
    "\n",
    "\n"
   ]
  },
  {
   "cell_type": "code",
   "execution_count": 38,
   "metadata": {},
   "outputs": [],
   "source": [
    "def levelorder_print(self, start):\n",
    "    if start is None:\n",
    "        return \n",
    "\n",
    "    queue = Queue()\n",
    "    queue.enqueue(start)\n",
    "\n",
    "    traversal = \"\"\n",
    "    while len(queue) > 0:\n",
    "        traversal += str(queue.peek()) + \"-\"\n",
    "        node = queue.dequeue()\n",
    "\n",
    "        if node.left:\n",
    "            queue.enqueue(node.left)\n",
    "        if node.right:\n",
    "            queue.enqueue(node.right)\n",
    "    \n",
    "    return traversal"
   ]
  },
  {
   "cell_type": "markdown",
   "metadata": {},
   "source": [
    "In the code above, first of all, we handle an edge case on line 2, i.e., start (root node) is None or we have an empty tree. In such a case, we return from the levelorder_print method.\n",
    "\n",
    "On line 5, we initialize a Queue object from the class we just implemented and name it as queue to which we enqueue start on line 6 as described in the algorithm. traversal is initialized to an empty string on line 8. Next, we set up a while loop on line 9 which runs until the length of the queue is greater than 0. Just as depicted in the algorithm, we append an element using the peek method to traversal and also concatenate a - so that the traversal appears in a format where the visited nodes will be divided by -. Once traversal is updated to register the node we visit, we dequeue that node and save it in the variable node on line 11. From lines 13-16, we check for the left and the right children of node and enqueue them to queue if they exist.\n",
    "\n",
    "Finally, we return traversal on line 18 which will have all the nodes we visited according to level-order."
   ]
  },
  {
   "cell_type": "markdown",
   "metadata": {},
   "source": [
    "**The pieces of code are combined and I have added levelorder_print to BinaryTree class and have also added \"levelorder\" as a traversal_type to print_tree method.*"
   ]
  },
  {
   "cell_type": "code",
   "execution_count": 40,
   "metadata": {},
   "outputs": [
    {
     "name": "stdout",
     "output_type": "stream",
     "text": [
      "1-2-3-4-5-\n"
     ]
    }
   ],
   "source": [
    "class Queue(object):\n",
    "    def __init__(self):\n",
    "        self.items = []\n",
    "\n",
    "    def enqueue(self, item):\n",
    "        self.items.insert(0, item)\n",
    "\n",
    "    def dequeue(self):\n",
    "        if not self.is_empty():\n",
    "            return self.items.pop()\n",
    "\n",
    "    def is_empty(self):\n",
    "        return len(self.items) == 0\n",
    "\n",
    "    def peek(self):\n",
    "        if not self.is_empty():\n",
    "            return self.items[-1].value\n",
    "\n",
    "    def __len__(self):\n",
    "        return self.size()\n",
    "\n",
    "    def size(self):\n",
    "        return len(self.items)\n",
    "\n",
    "\n",
    "class Node(object):\n",
    "    def __init__(self, value):\n",
    "        self.value = value\n",
    "        self.left = None\n",
    "        self.right = None\n",
    "\n",
    "\n",
    "class BinaryTree(object):\n",
    "    def __init__(self, root):\n",
    "        self.root = Node(root)\n",
    "\n",
    "    def print_tree(self, traversal_type):\n",
    "        if traversal_type == \"preorder\":\n",
    "            return self.preorder_print(tree.root, \"\")\n",
    "        elif traversal_type == \"inorder\":\n",
    "            return self.inorder_print(tree.root, \"\")\n",
    "        elif traversal_type == \"postorder\":\n",
    "            return self.postorder_print(tree.root, \"\")\n",
    "        elif traversal_type == \"levelorder\":\n",
    "            return self.levelorder_print(tree.root)\n",
    "\n",
    "        else:\n",
    "            print(\"Traversal type \" + str(traversal_type) + \" is not supported.\")\n",
    "            return False\n",
    "\n",
    "    def preorder_print(self, start, traversal):\n",
    "        \"\"\"Root->Left->Right\"\"\"\n",
    "        if start:\n",
    "            traversal += (str(start.value) + \"-\")\n",
    "            traversal = self.preorder_print(start.left, traversal)\n",
    "            traversal = self.preorder_print(start.right, traversal)\n",
    "        return traversal\n",
    "\n",
    "    def inorder_print(self, start, traversal):\n",
    "        \"\"\"Left->Root->Right\"\"\"\n",
    "        if start:\n",
    "            traversal = self.inorder_print(start.left, traversal)\n",
    "            traversal += (str(start.value) + \"-\")\n",
    "            traversal = self.inorder_print(start.right, traversal)\n",
    "        return traversal\n",
    "\n",
    "    def postorder_print(self, start, traversal):\n",
    "        \"\"\"Left->Right->Root\"\"\"\n",
    "        if start:\n",
    "            traversal = self.postorder_print(start.left, traversal)\n",
    "            traversal = self.postorder_print(start.right, traversal)\n",
    "            traversal += (str(start.value) + \"-\")\n",
    "        return traversal\n",
    "\n",
    "    def levelorder_print(self, start):\n",
    "        if start is None:\n",
    "            return \n",
    "\n",
    "        queue = Queue()\n",
    "        queue.enqueue(start)\n",
    "\n",
    "        traversal = \"\"\n",
    "        while len(queue) > 0:\n",
    "            traversal += str(queue.peek()) + \"-\"\n",
    "            node = queue.dequeue()\n",
    "\n",
    "            if node.left:\n",
    "                queue.enqueue(node.left)\n",
    "            if node.right:\n",
    "                queue.enqueue(node.right)\n",
    "\n",
    "        return traversal\n",
    "\n",
    "\n",
    "tree = BinaryTree(1)\n",
    "tree.root.left = Node(2)\n",
    "tree.root.right = Node(3)\n",
    "tree.root.left.left = Node(4)\n",
    "tree.root.left.right = Node(5)\n",
    "\n",
    "print(tree.print_tree(\"levelorder\"))"
   ]
  },
  {
   "cell_type": "markdown",
   "metadata": {},
   "source": [
    "#### Reverse Level-Order Traversal"
   ]
  },
  {
   "cell_type": "markdown",
   "metadata": {},
   "source": [
    "**Algorithm**\n",
    "\n",
    "To solve this problem, we’ll use a queue again just like we did with level-order traversal, but with a slight tweak; we’ll enqueue the right child before the left child. Additionally, we will use a stack. The algorithm starts with enqueuing the root node. As we traverse the tree, we dequeue the nodes from the queue and push them to the stack. After we push a node on to the stack, we check for its children, and if they are present, we enqueue them. This process is repeated until the queue becomes empty. In the end, popping the element from the stack will give us the reverse-order traversal. Let’s step through the algorithm using the illustrations below:"
   ]
  },
  {
   "cell_type": "markdown",
   "metadata": {},
   "source": [
    "First, we’ll implement Stack class:"
   ]
  },
  {
   "cell_type": "code",
   "execution_count": 41,
   "metadata": {},
   "outputs": [],
   "source": [
    "class Stack(object):\n",
    "    def __init__(self):\n",
    "        self.items = []\n",
    "\n",
    "    def __len__(self):\n",
    "        return self.size()\n",
    "     \n",
    "    def size(self):\n",
    "        return len(self.items)\n",
    "\n",
    "    def push(self, item):\n",
    "        self.items.append(item)\n",
    "\n",
    "    def pop(self):  \n",
    "        if not self.is_empty():\n",
    "            return self.items.pop()\n",
    "\n",
    "    def peek(self):\n",
    "        if not self.is_empty():\n",
    "            return self.items[-1]\n",
    "\n",
    "    def is_empty(self):\n",
    "        return len(self.items) == 0\n",
    "\n",
    "    def __str__(self):\n",
    "        s = \"\"\n",
    "        for i in range(len(self.items)):\n",
    "            s += str(self.items[i].value) + \"-\"\n",
    "        return s"
   ]
  },
  {
   "cell_type": "markdown",
   "metadata": {},
   "source": [
    "The above code is explanatory itself, except in method __str__, we are using a for loop to create a string which iterates through self.items and concatenates them into a string which is returned from the method."
   ]
  },
  {
   "cell_type": "code",
   "execution_count": 42,
   "metadata": {},
   "outputs": [],
   "source": [
    "def reverse_levelorder_print(self, start):\n",
    "    \n",
    "    if start is None:\n",
    "        return \n",
    "\n",
    "    queue = Queue()\n",
    "    stack = Stack()\n",
    "    queue.enqueue(start)\n",
    "\n",
    "\n",
    "    traversal = \"\"\n",
    "    while len(queue) > 0:\n",
    "        node = queue.dequeue()\n",
    "\n",
    "        stack.push(node)\n",
    "\n",
    "        if node.right:\n",
    "            queue.enqueue(node.right)\n",
    "        if node.left:\n",
    "            queue.enqueue(node.left)\n",
    "  \n",
    "    while len(stack) > 0:\n",
    "        node = stack.pop()\n",
    "        traversal += str(node.value) + \"-\"\n"
   ]
  },
  {
   "cell_type": "markdown",
   "metadata": {},
   "source": [
    "Let's add reverse_levelorder_print to the BinaryTree class and also \"reverse_levelorder\" as a traversal_type to print_tree method. Thus, combining the above codes."
   ]
  },
  {
   "cell_type": "code",
   "execution_count": null,
   "metadata": {},
   "outputs": [],
   "source": [
    "class Stack(object):\n",
    "    def __init__(self):\n",
    "        self.items = []\n",
    "\n",
    "    def __len__(self):\n",
    "        return self.size()\n",
    "     \n",
    "    def size(self):\n",
    "        return len(self.items)\n",
    "\n",
    "    def push(self, item):\n",
    "        self.items.append(item)\n",
    "\n",
    "    def pop(self):  \n",
    "        if not self.is_empty():\n",
    "            return self.items.pop()\n",
    "\n",
    "    def peek(self):\n",
    "        if not self.is_empty():\n",
    "            return self.items[-1]\n",
    "\n",
    "    def is_empty(self):\n",
    "        return len(self.items) == 0\n",
    "\n",
    "    def __str__(self):\n",
    "        s = \"\"\n",
    "        for i in range(len(self.items)):\n",
    "            s += str(self.items[i].value) + \"-\"\n",
    "        return s\n",
    "        \n",
    "class Queue(object):\n",
    "    def __init__(self):\n",
    "        self.items = []\n",
    "\n",
    "    def enqueue(self, item):\n",
    "        self.items.insert(0, item)\n",
    "\n",
    "    def dequeue(self):\n",
    "        if not self.is_empty():\n",
    "            return self.items.pop()\n",
    "\n",
    "    def is_empty(self):\n",
    "        return len(self.items) == 0\n",
    "\n",
    "    def peek(self):\n",
    "        if not self.is_empty():\n",
    "            return self.items[-1].value\n",
    "\n",
    "    def __len__(self):\n",
    "        return self.size()\n",
    "\n",
    "    def size(self):\n",
    "        return len(self.items)\n",
    "\n",
    "\n",
    "class Node(object):\n",
    "    def __init__(self, value):\n",
    "        self.value = value\n",
    "        self.left = None\n",
    "        self.right = None\n",
    "\n",
    "\n",
    "class BinaryTree(object):\n",
    "    def __init__(self, root):\n",
    "        self.root = Node(root)\n",
    "\n",
    "    def print_tree(self, traversal_type):\n",
    "        if traversal_type == \"preorder\":\n",
    "            return self.preorder_print(tree.root, \"\")\n",
    "        elif traversal_type == \"inorder\":\n",
    "            return self.inorder_print(tree.root, \"\")\n",
    "        elif traversal_type == \"postorder\":\n",
    "            return self.postorder_print(tree.root, \"\")\n",
    "        elif traversal_type == \"levelorder\":\n",
    "            return self.levelorder_print(tree.root)\n",
    "        elif traversal_type == \"reverse_levelorder\":\n",
    "            return self.reverse_levelorder_print(tree.root)\n",
    "\n",
    "        else:\n",
    "            print(\"Traversal type \" + str(traversal_type) + \" is not supported.\")\n",
    "            return False\n",
    "\n",
    "    def preorder_print(self, start, traversal):\n",
    "        \"\"\"Root->Left->Right\"\"\"\n",
    "        if start:\n",
    "            traversal += (str(start.value) + \"-\")\n",
    "            traversal = self.preorder_print(start.left, traversal)\n",
    "            traversal = self.preorder_print(start.right, traversal)\n",
    "        return traversal\n",
    "\n",
    "    def inorder_print(self, start, traversal):\n",
    "        \"\"\"Left->Root->Right\"\"\"\n",
    "        if start:\n",
    "            traversal = self.inorder_print(start.left, traversal)\n",
    "            traversal += (str(start.value) + \"-\")\n",
    "            traversal = self.inorder_print(start.right, traversal)\n",
    "        return traversal\n",
    "\n",
    "    def postorder_print(self, start, traversal):\n",
    "        \"\"\"Left->Right->Root\"\"\"\n",
    "        if start:\n",
    "            traversal = self.inorder_print(start.left, traversal)\n",
    "            traversal = self.inorder_print(start.right, traversal)\n",
    "            traversal += (str(start.value) + \"-\")\n",
    "        return traversal\n",
    "\n",
    "    def levelorder_print(self, start):\n",
    "        if start is None:\n",
    "            return \n",
    "\n",
    "        queue = Queue()\n",
    "        queue.enqueue(start)\n",
    "\n",
    "        traversal = \"\"\n",
    "        while len(queue) > 0:\n",
    "            traversal += str(queue.peek()) + \"-\"\n",
    "            node = queue.dequeue()\n",
    "\n",
    "            if node.left:\n",
    "                queue.enqueue(node.left)\n",
    "            if node.right:\n",
    "                queue.enqueue(node.right)\n",
    "\n",
    "        return traversal\n",
    "\n",
    "    def reverse_levelorder_print(self, start):\n",
    "        if start is None:\n",
    "            return \n",
    "\n",
    "        queue = Queue()\n",
    "        stack = Stack()\n",
    "        queue.enqueue(start)\n",
    "\n",
    "\n",
    "        traversal = \"\"\n",
    "        while len(queue) > 0:\n",
    "            node = queue.dequeue()\n",
    "\n",
    "            stack.push(node)\n",
    "\n",
    "            if node.right:\n",
    "                queue.enqueue(node.right)\n",
    "            if node.left:\n",
    "                queue.enqueue(node.left)\n",
    "        \n",
    "        while len(stack) > 0:\n",
    "            node = stack.pop()\n",
    "            traversal += str(node.value) + \"-\"\n",
    "\n",
    "        return traversal\n",
    "\n",
    "\n",
    "\n",
    "tree = BinaryTree(1)\n",
    "tree.root.left = Node(2)\n",
    "tree.root.right = Node(3)\n",
    "tree.root.left.left = Node(4)\n",
    "tree.root.left.right = Node(5)\n",
    "\n",
    "print(tree.print_tree(\"reverse_levelorder\"))"
   ]
  },
  {
   "cell_type": "markdown",
   "metadata": {},
   "source": [
    "Review the above code carefully, it would make sense. The length is big but the pieces individually are easy to comprehend! Good?"
   ]
  },
  {
   "cell_type": "markdown",
   "metadata": {},
   "source": [
    "#### Calculating the Height of a Binary Tree"
   ]
  },
  {
   "cell_type": "markdown",
   "metadata": {},
   "source": [
    "We studied before right? let's recall!"
   ]
  },
  {
   "cell_type": "markdown",
   "metadata": {},
   "source": [
    "The height of a node is the number of edges on the longest path between that node and a leaf. The height of a leaf node is 0.\n",
    "\n",
    "Recursively defined, the height of a node is one greater than the max of its right and left children’s height."
   ]
  },
  {
   "cell_type": "markdown",
   "metadata": {},
   "source": [
    "#### Algorithm"
   ]
  },
  {
   "cell_type": "markdown",
   "metadata": {},
   "source": [
    "In this lesson, we will consider the recursive approach to calculate the height of a tree. The idea is to break down the problem using recursion and traverse through the left and right subtree of a node to calculate the height of that node. Once we get the height of the left and right subtree, we will consider the maximum of the two heights plus one to be the height of the tree."
   ]
  },
  {
   "cell_type": "code",
   "execution_count": 47,
   "metadata": {},
   "outputs": [],
   "source": [
    "def height(self, node):\n",
    "    if node is None:\n",
    "        return -1\n",
    "\n",
    "    left_height = self.height(node.left)\n",
    "    right_height = self.height(node.right)\n",
    "\n",
    "    return 1 + max(left_height, right_height)\n",
    "  "
   ]
  },
  {
   "cell_type": "markdown",
   "metadata": {},
   "source": [
    "Below, the height method is made part of the BinaryTree Class. Write your test cases to verify the height method. A sample test case has been given to you."
   ]
  },
  {
   "cell_type": "code",
   "execution_count": 49,
   "metadata": {},
   "outputs": [
    {
     "name": "stdout",
     "output_type": "stream",
     "text": [
      "2\n"
     ]
    }
   ],
   "source": [
    "class Stack(object):\n",
    "    def __init__(self):\n",
    "        self.items = []\n",
    "\n",
    "    def __len__(self):\n",
    "        return self.size()\n",
    "     \n",
    "    def size(self):\n",
    "        return len(self.items)\n",
    "\n",
    "    def push(self, item):\n",
    "        self.items.append(item)\n",
    "\n",
    "    def pop(self):  \n",
    "        if not self.is_empty():\n",
    "            return self.items.pop()\n",
    "\n",
    "    def peek(self):\n",
    "        if not self.is_empty():\n",
    "            return self.items[-1]\n",
    "\n",
    "    def is_empty(self):\n",
    "        return len(self.items) == 0\n",
    "\n",
    "    def __str__(self):\n",
    "        s = \"\"\n",
    "        for i in range(len(self.items)):\n",
    "            s += str(self.items[i].value) + \"-\"\n",
    "        return s\n",
    "\n",
    "\n",
    "class Queue(object):\n",
    "    def __init__(self):\n",
    "        self.items = []\n",
    "\n",
    "    def __len__(self):\n",
    "        return self.size()\n",
    "\n",
    "    def enqueue(self, item):\n",
    "        self.items.insert(0, item)\n",
    "\n",
    "    def dequeue(self):\n",
    "        if not self.is_empty():\n",
    "            return self.items.pop()\n",
    "\n",
    "    def size(self):\n",
    "        return len(self.items)\n",
    "\n",
    "    def is_empty(self):\n",
    "        return len(self.items) == 0\n",
    "\n",
    "    def peek(self):\n",
    "        if not self.is_empty():\n",
    "            return self.items[-1].value\n",
    "\n",
    "\n",
    "class Node(object):\n",
    "    def __init__(self, value):\n",
    "        self.value = value\n",
    "        self.left = None\n",
    "        self.right = None\n",
    "\n",
    "\n",
    "class BinaryTree(object):\n",
    "    def __init__(self, root):\n",
    "        self.root = Node(root)\n",
    "\n",
    "    def search(self, find_val, traversal_type):\n",
    "        if traversal_type == \"preorder\":\n",
    "            return self.preorder_search(tree.root, find_val)\n",
    "        elif traversal_type == \"inorder\":\n",
    "            return self.inorder_search(tree.root, find_val)\n",
    "        elif traversal_type == \"postorder\":\n",
    "            return self.postorder_search(tree.root, find_val)\n",
    "        else:\n",
    "            print(\"Traversal type \" + str(traversal_type) + \" not recognized.\")\n",
    "            return False\n",
    "\n",
    "    def print_tree(self, traversal_type):\n",
    "        # Recursive traversals\n",
    "        if traversal_type == \"preorder\":\n",
    "            return self.preorder_print(tree.root, \"\")\n",
    "        elif traversal_type == \"inorder\":\n",
    "            return self.inorder_print(tree.root, \"\")\n",
    "        elif traversal_type == \"postorder\":\n",
    "            return self.postorder_print(tree.root, \"\")\n",
    "\n",
    "        # Iterative traversals\n",
    "        elif traversal_type == \"levelorder\":\n",
    "            return self.levelorder_print(tree.root)\n",
    "        elif traversal_type == \"inorder_iterative\":\n",
    "            return self.inorder_iterative(tree.root)\n",
    "        elif traversal_type == \"preorder_iterative\":\n",
    "            return self.preorder_iterative(tree.root)\n",
    "        elif traversal_type == \"postorder_iterative\":\n",
    "            return self.postorder_iterative(tree.root)\n",
    "        else:\n",
    "            print(\"Traversal type \" + str(traversal_type) + \" not recognized.\")\n",
    "            return False\n",
    "\n",
    "    def levelorder_print(self, start):\n",
    "        if start is None:\n",
    "            return\n",
    "        queue = Queue()\n",
    "        queue.enqueue(start)\n",
    "\n",
    "        traversal = \"\"\n",
    "        while len(queue) > 0:\n",
    "            traversal += str(queue.peek()) + \"-\"\n",
    "            node = queue.dequeue()\n",
    "\n",
    "            if node.left:\n",
    "                queue.enqueue(node.left)\n",
    "            if node.right:\n",
    "                queue.enqueue(node.right)\n",
    "\n",
    "        return traversal\n",
    "\n",
    "    def preorder_search(self, start, find_val):\n",
    "        if start:\n",
    "            if start.value == find_val:\n",
    "                return True\n",
    "            else:\n",
    "                return self.preorder_search(start.left, find_val) or \\\n",
    "                       self.preorder_search(start.right, find_val)\n",
    "        return False\n",
    "\n",
    "    def preorder_print(self, start, traversal):\n",
    "        \"\"\"Root->Left-Right\"\"\"\n",
    "        if start:\n",
    "            traversal += (str(start.value) + \"-\")\n",
    "            traversal = self.preorder_print(start.left, traversal)\n",
    "            traversal = self.preorder_print(start.right, traversal)\n",
    "        return traversal\n",
    "\n",
    "    def inorder_print(self, start, traversal):\n",
    "        \"\"\"Left->Root->Right\"\"\"\n",
    "        if start:\n",
    "            traversal = self.inorder_print(start.left, traversal)\n",
    "            traversal += (str(start.value) + \"-\")\n",
    "            traversal = self.inorder_print(start.right, traversal)\n",
    "        return traversal\n",
    "\n",
    "    def postorder_print(self, start, traversal):\n",
    "        \"\"\"Left->Right->Root\"\"\"\n",
    "        if start:\n",
    "            traversal = self.postorder_print(start.left, traversal)\n",
    "            traversal = self.postorder_print(start.right, traversal)\n",
    "            traversal += (str(start.value) + \"-\")\n",
    "        return traversal\n",
    "\n",
    "    def height(self, node):\n",
    "        if node is None:\n",
    "            return -1\n",
    "\n",
    "        left_height = self.height(node.left)\n",
    "        right_height = self.height(node.right)\n",
    "\n",
    "        return 1 + max(left_height, right_height)\n",
    "\n",
    "\n",
    "# Calculate height of binary tree:\n",
    "#     1\n",
    "#    / \\\n",
    "#   2  3\n",
    "#  / \\\n",
    "# 4  5\n",
    "# \n",
    "tree = BinaryTree(1)\n",
    "tree.root.left = Node(2)\n",
    "tree.root.right = Node(3)\n",
    "tree.root.left.left = Node(4)\n",
    "tree.root.left.right = Node(5)\n",
    "\n",
    "print(tree.height(tree.root))"
   ]
  },
  {
   "cell_type": "markdown",
   "metadata": {},
   "source": [
    "**Hurray! This sums up our content on Binary Trees.*"
   ]
  },
  {
   "cell_type": "markdown",
   "metadata": {},
   "source": [
    "**Time for a challenge!!**"
   ]
  },
  {
   "cell_type": "markdown",
   "metadata": {},
   "source": [
    "#### Calculating the Size of a Tree"
   ]
  },
  {
   "cell_type": "markdown",
   "metadata": {},
   "source": [
    "The size of the tree is the total number of nodes in a tree."
   ]
  },
  {
   "cell_type": "markdown",
   "metadata": {},
   "source": [
    "Iterative Approach"
   ]
  },
  {
   "cell_type": "code",
   "execution_count": 53,
   "metadata": {},
   "outputs": [],
   "source": [
    "def size(self):\n",
    "    if self.root is None:\n",
    "        return 0\n",
    "    size=1\n",
    "    stack=Stack()\n",
    "    stack.push(self.root)\n",
    "    while stack:\n",
    "        node=stack.pop()\n",
    "        if node.left:\n",
    "            stack.push(node.left)\n",
    "            size+=1\n",
    "        if node.right:\n",
    "            stack.push(node.right)\n",
    "            size+=1\n",
    "    return size\n",
    "        \n",
    "        "
   ]
  },
  {
   "cell_type": "markdown",
   "metadata": {},
   "source": [
    "Recursive Approach"
   ]
  },
  {
   "cell_type": "code",
   "execution_count": 52,
   "metadata": {},
   "outputs": [],
   "source": [
    "def size_(self,node):\n",
    "    if node is None:\n",
    "        return 0\n",
    "    return 1 + self.size_(node.left)+ self.size_(node.right)"
   ]
  },
  {
   "cell_type": "markdown",
   "metadata": {},
   "source": [
    "Let's combine the code and test!"
   ]
  },
  {
   "cell_type": "code",
   "execution_count": 54,
   "metadata": {},
   "outputs": [
    {
     "name": "stdout",
     "output_type": "stream",
     "text": [
      "5\n",
      "5\n"
     ]
    }
   ],
   "source": [
    "class Stack(object):\n",
    "    def __init__(self):\n",
    "        self.items = []\n",
    "\n",
    "    def __len__(self):\n",
    "        return self.size()\n",
    "     \n",
    "    def size(self):\n",
    "        return len(self.items)\n",
    "\n",
    "    def push(self, item):\n",
    "        self.items.append(item)\n",
    "\n",
    "    def pop(self):  \n",
    "        if not self.is_empty():\n",
    "            return self.items.pop()\n",
    "\n",
    "    def peek(self):\n",
    "        if not self.is_empty():\n",
    "            return self.items[-1]\n",
    "\n",
    "    def is_empty(self):\n",
    "        return len(self.items) == 0\n",
    "\n",
    "    def __str__(self):\n",
    "        s = \"\"\n",
    "        for i in range(len(self.items)):\n",
    "            s += str(self.items[i].value) + \"-\"\n",
    "        return s\n",
    "\n",
    "\n",
    "class Queue(object):\n",
    "    def __init__(self):\n",
    "        self.items = []\n",
    "\n",
    "    def __len__(self):\n",
    "        return self.size()\n",
    "\n",
    "    def enqueue(self, item):\n",
    "        self.items.insert(0, item)\n",
    "\n",
    "    def dequeue(self):\n",
    "        if not self.is_empty():\n",
    "            return self.items.pop()\n",
    "\n",
    "    def size(self):\n",
    "        return len(self.items)\n",
    "\n",
    "    def is_empty(self):\n",
    "        return len(self.items) == 0\n",
    "\n",
    "    def peek(self):\n",
    "        if not self.is_empty():\n",
    "            return self.items[-1].value\n",
    "\n",
    "\n",
    "class Node(object):\n",
    "    def __init__(self, value):\n",
    "        self.value = value\n",
    "        self.left = None\n",
    "        self.right = None\n",
    "\n",
    "\n",
    "class BinaryTree(object):\n",
    "    def __init__(self, root):\n",
    "        self.root = Node(root)\n",
    "\n",
    "    def search(self, find_val, traversal_type):\n",
    "        if traversal_type == \"preorder\":\n",
    "            return self.preorder_search(tree.root, find_val)\n",
    "        elif traversal_type == \"inorder\":\n",
    "            return self.inorder_search(tree.root, find_val)\n",
    "        elif traversal_type == \"postorder\":\n",
    "            return self.postorder_search(tree.root, find_val)\n",
    "        else:\n",
    "            print(\"Traversal type \" + str(traversal_type) + \" not recognized.\")\n",
    "            return False\n",
    "\n",
    "    def print_tree(self, traversal_type):\n",
    "        # Recursive traversals\n",
    "        if traversal_type == \"preorder\":\n",
    "            return self.preorder_print(tree.root, \"\")\n",
    "        elif traversal_type == \"inorder\":\n",
    "            return self.inorder_print(tree.root, \"\")\n",
    "        elif traversal_type == \"postorder\":\n",
    "            return self.postorder_print(tree.root, \"\")\n",
    "\n",
    "        # Iterative traversals\n",
    "        elif traversal_type == \"levelorder\":\n",
    "            return self.levelorder_print(tree.root)\n",
    "        elif traversal_type == \"inorder_iterative\":\n",
    "            return self.inorder_iterative(tree.root)\n",
    "        elif traversal_type == \"preorder_iterative\":\n",
    "            return self.preorder_iterative(tree.root)\n",
    "        elif traversal_type == \"postorder_iterative\":\n",
    "            return self.postorder_iterative(tree.root)\n",
    "        else:\n",
    "            print(\"Traversal type \" + str(traversal_type) + \" not recognized.\")\n",
    "            return False\n",
    "\n",
    "    def levelorder_print(self, start):\n",
    "        if start is None:\n",
    "            return\n",
    "        queue = Queue()\n",
    "        queue.enqueue(start)\n",
    "\n",
    "        traversal = \"\"\n",
    "        while len(queue) > 0:\n",
    "            traversal += str(queue.peek()) + \"-\"\n",
    "            node = queue.dequeue()\n",
    "\n",
    "            if node.left:\n",
    "                queue.enqueue(node.left)\n",
    "            if node.right:\n",
    "                queue.enqueue(node.right)\n",
    "\n",
    "        return traversal\n",
    "\n",
    "    def preorder_search(self, start, find_val):\n",
    "        if start:\n",
    "            if start.value == find_val:\n",
    "                return True\n",
    "            else:\n",
    "                return self.preorder_search(start.left, find_val) or \\\n",
    "                       self.preorder_search(start.right, find_val)\n",
    "        return False\n",
    "\n",
    "    def preorder_print(self, start, traversal):\n",
    "        \"\"\"Root->Left-Right\"\"\"\n",
    "        if start:\n",
    "            traversal += (str(start.value) + \"-\")\n",
    "            traversal = self.preorder_print(start.left, traversal)\n",
    "            traversal = self.preorder_print(start.right, traversal)\n",
    "        return traversal\n",
    "\n",
    "    def inorder_print(self, start, traversal):\n",
    "        \"\"\"Left->Root->Right\"\"\"\n",
    "        if start:\n",
    "            traversal = self.inorder_print(start.left, traversal)\n",
    "            traversal += (str(start.value) + \"-\")\n",
    "            traversal = self.inorder_print(start.right, traversal)\n",
    "        return traversal\n",
    "\n",
    "    def postorder_print(self, start, traversal):\n",
    "        \"\"\"Left->Right->Root\"\"\"\n",
    "        if start:\n",
    "            traversal = self.postorder_print(start.left, traversal)\n",
    "            traversal = self.postorder_print(start.right, traversal)\n",
    "            traversal += (str(start.value) + \"-\")\n",
    "        return traversal\n",
    "\n",
    "    def preorder_iterative(self, start):\n",
    "        stack = Stack()\n",
    "\n",
    "        cur = start\n",
    "        is_done = False\n",
    "\n",
    "        traversal = \"\"\n",
    "        while not is_done:\n",
    "            if cur is not None:\n",
    "                traversal += str(cur.value) + \"-\"\n",
    "                stack.push(cur)\n",
    "                cur = cur.left\n",
    "            else:\n",
    "                if len(stack) > 0:\n",
    "                    cur = stack.pop()\n",
    "                    cur = cur.right\n",
    "                else:\n",
    "                    is_done = True\n",
    "        return traversal\n",
    "\n",
    "    def inorder_iterative(self, start):\n",
    "        s = Stack()\n",
    "\n",
    "        cur = start\n",
    "        is_done = False\n",
    "\n",
    "        traversal = \"\"\n",
    "        while not is_done:\n",
    "            if cur is not None:\n",
    "                s.push(cur)\n",
    "                cur = cur.left\n",
    "            else:\n",
    "                if len(s) > 0:\n",
    "                    cur = s.pop()\n",
    "                    traversal += str(cur.value) + \"-\"\n",
    "                    cur = cur.right\n",
    "                else:\n",
    "                    is_done = True\n",
    "        return traversal\n",
    "\n",
    "    def postorder_iterative(self, start):\n",
    "        s = Stack()\n",
    "\n",
    "        cur = start\n",
    "        is_done = False\n",
    "\n",
    "        traversal = \"\"\n",
    "        while not is_done:\n",
    "             \n",
    "            if cur is not None:\n",
    "                s.push(cur)\n",
    "                cur = cur.left\n",
    "            else:\n",
    "                if len(s) > 0:\n",
    "                    cur = s.pop()\n",
    "                    traversal += str(cur.value) + \"-\"\n",
    "                    cur = cur.right\n",
    "                else:\n",
    "                    is_done = True\n",
    "\n",
    "        return traversal\n",
    "\n",
    "    def height(self, node):\n",
    "        if node is None:\n",
    "            return -1\n",
    "        left_height = self.height(node.left)\n",
    "        right_height = self.height(node.right)\n",
    "\n",
    "        return 1 + max(left_height, right_height)\n",
    "\n",
    "    def size_(self, node):\n",
    "        if node is None:\n",
    "            return 0\n",
    "        return 1 + self.size_(node.left) + self.size_(node.right)\n",
    "\n",
    "    def size(self):\n",
    "        if self.root is None:\n",
    "            return 0\n",
    "\n",
    "        stack = Stack()\n",
    "        stack.push(self.root)\n",
    "        size = 1\n",
    "        while stack:\n",
    "            node = stack.pop()\n",
    "            if node.left:\n",
    "                size += 1\n",
    "                stack.push(node.left)\n",
    "            if node.right:\n",
    "                size += 1\n",
    "                stack.push(node.right)\n",
    "        return size\n",
    "\n",
    "# Calculate size of binary tree:\n",
    "#     1\n",
    "#    / \\\n",
    "#   2  3\n",
    "#  / \\\n",
    "# 4  5\n",
    "# \n",
    "tree = BinaryTree(1)\n",
    "tree.root.left = Node(2)\n",
    "tree.root.right = Node(3)\n",
    "tree.root.left.left = Node(4)\n",
    "tree.root.left.right = Node(5)\n",
    "\n",
    "print(tree.size())\n",
    "print(tree.size_(tree.root))"
   ]
  },
  {
   "cell_type": "markdown",
   "metadata": {},
   "source": [
    "Done and dusted!!"
   ]
  }
 ],
 "metadata": {
  "kernelspec": {
   "display_name": "Python 3",
   "language": "python",
   "name": "python3"
  },
  "language_info": {
   "codemirror_mode": {
    "name": "ipython",
    "version": 3
   },
   "file_extension": ".py",
   "mimetype": "text/x-python",
   "name": "python",
   "nbconvert_exporter": "python",
   "pygments_lexer": "ipython3",
   "version": "3.7.4"
  }
 },
 "nbformat": 4,
 "nbformat_minor": 4
}
